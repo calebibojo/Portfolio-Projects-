{
 "cells": [
  {
   "cell_type": "code",
   "execution_count": 1,
   "id": "194385bf-00b2-44e4-8e05-c4c7c2a1a4bd",
   "metadata": {},
   "outputs": [],
   "source": [
    "#import libraries\n",
    "from bs4 import BeautifulSoup\n",
    "import requests\n",
    "import smtplib\n",
    "import time\n",
    "import datetime\n"
   ]
  },
  {
   "cell_type": "code",
   "execution_count": 2,
   "id": "4a72c6ec-95ab-4e7e-bc98-975a494fcc0c",
   "metadata": {},
   "outputs": [
    {
     "name": "stdout",
     "output_type": "stream",
     "text": [
      "\n",
      "                    Funny Got Data MIS Data Systems Business Analyst T-Shirt\n",
      "                   \n",
      "\n",
      "\n",
      "\n",
      "\n",
      "                    $16.99\n",
      "                   \n",
      "\n",
      "\n",
      "\n",
      "\n",
      "\n",
      "                      $\n",
      "                     \n",
      "\n",
      "                      16\n",
      "                      \n",
      "                       .\n",
      "                      \n",
      "\n",
      "\n",
      "                      99\n",
      "                     \n",
      "\n",
      "\n",
      "\n",
      "\n",
      "\n",
      "\n",
      "\n",
      "\n",
      "\n",
      "\n",
      "\n",
      "\n"
     ]
    }
   ],
   "source": [
    "URL=\"https://www.amazon.com/Funny-Data-Systems-Business-Analyst/dp/B07FNW9FGJ/ref=sr_1_7?dib=eyJ2IjoiMSJ9.bn929C3TjJRYRSKPHSKbQAQS0RFsUzX6p0rqnNeAYOC-elxmEgwuD5_w44of5GgoDVc8r1T94YMx1ucDRqgI_MExct9_EuLBFNcU8mtY80qnsLRAGWR46ErIf_hYIlw9boHKcMY1ZXu5qC9c5m7-7wPfM3B6y1ibP2TZgRHwxSNSteHtq61j-Uex0yzGdTWO7Xvh-tJB_cjYAPUKlZvfOego9KsW1bkPUPrro7nrknK2mrwWXfQvnEEXx5qKceHhTlJVZCTW1Crix9Y_UP2YBGVECtC7IXC9vXk3DE5Susc.rRzvgX-77KGfsdzQy-jxMDgEewq6G3RPKTcE4s3UDWw&dib_tag=se&keywords=data%2Banalyst%2Btshirt&qid=1728996799&sr=8-7\"\n",
    "headers={ \"User-Agent\": \"Mozilla/5.0 (Windows NT 10.0; Win64; x64) AppleWebKit/537.36 (KHTML, like Gecko) Chrome/129.0.0.0 Safari/537.36\",\"Accept-Language\": \"en-US,en;q=0.5\",\n",
    "    \"Referer\": \"https://google.com\",\n",
    "}\n",
    "page=requests.get(URL, headers=headers)\n",
    "soup1=BeautifulSoup(page.content,\"html.parser\")\n",
    "soup2=BeautifulSoup(soup1.prettify(),\"html.parser\")\n",
    "title= soup2.find(id=\"productTitle\").get_text()\n",
    "price= soup2.find(id=\"corePriceDisplay_desktop_feature_div\").get_text()\n",
    "\n",
    "#print(title)\n",
    "print(title)\n",
    "print(price)\n",
    "#print(price.get_text())\n",
    "\n",
    "\n",
    "\n",
    "\n"
   ]
  },
  {
   "cell_type": "code",
   "execution_count": 3,
   "id": "fe393897-078a-4535-ba84-f1e57bed068c",
   "metadata": {},
   "outputs": [
    {
     "name": "stdout",
     "output_type": "stream",
     "text": [
      "Funny Got Data MIS Data Systems Business Analyst T-Shirt\n",
      "$16.99\n"
     ]
    },
    {
     "data": {
      "text/plain": [
       "str"
      ]
     },
     "execution_count": 3,
     "metadata": {},
     "output_type": "execute_result"
    }
   ],
   "source": [
    "price= price.strip()[:6]\n",
    "title=title.strip()\n",
    "print(title)\n",
    "print(price)\n",
    "type(title)"
   ]
  },
  {
   "cell_type": "code",
   "execution_count": 4,
   "id": "40e61a52-df46-40b5-a5b7-8e39ccbaa355",
   "metadata": {},
   "outputs": [
    {
     "name": "stdout",
     "output_type": "stream",
     "text": [
      "2024-10-17\n"
     ]
    }
   ],
   "source": [
    "import datetime\n",
    "\n",
    "today=datetime.date.today()\n",
    "\n",
    "print(today)\n",
    "\n",
    "\n"
   ]
  },
  {
   "cell_type": "code",
   "execution_count": 5,
   "id": "393d443d-eec8-45ac-9235-b3ac90f8da19",
   "metadata": {},
   "outputs": [],
   "source": [
    "import csv\n",
    "header= ['Title','Price','Date']\n",
    "data= [title,price,today]\n",
    "with open('AmazonWebScraperDataset.csv', 'w', newline='',encoding='UTF8') as f:\n",
    "    writer=csv.writer(f)\n",
    "    writer.writerow(header)\n",
    "    writer.writerow(data)\n"
   ]
  },
  {
   "cell_type": "code",
   "execution_count": 6,
   "id": "37981a4e-0ba4-45c6-bcd6-27ffda054978",
   "metadata": {},
   "outputs": [
    {
     "name": "stdout",
     "output_type": "stream",
     "text": [
      "                                               Title   Price        Date\n",
      "0  Funny Got Data MIS Data Systems Business Analy...  $16.99  2024-10-17\n"
     ]
    }
   ],
   "source": [
    "import pandas as pd\n",
    "df= pd.read_csv(r\"C:\\Users\\LARALEK\\AmazonWebScraperDataset.csv\")\n",
    "print(df)\n"
   ]
  },
  {
   "cell_type": "code",
   "execution_count": 7,
   "id": "a61618ec-c97e-4640-800e-00a1562cca6f",
   "metadata": {},
   "outputs": [],
   "source": [
    "with open('AmazonWebScraperDataset.csv', 'a+', newline='',encoding='UTF8') as f:\n",
    "    writer=csv.writer(f)\n",
    "    writer.writerow(data)"
   ]
  },
  {
   "cell_type": "code",
   "execution_count": 8,
   "id": "fdfc5b88-6667-47bf-84bb-24e2f993c0fa",
   "metadata": {},
   "outputs": [],
   "source": [
    "def check_price():\n",
    "    URL=\"https://www.amazon.com/Funny-Data-Systems-Business-Analyst/dp/B07FNW9FGJ/ref=sr_1_7?dib=eyJ2IjoiMSJ9.bn929C3TjJRYRSKPHSKbQAQS0RFsUzX6p0rqnNeAYOC-elxmEgwuD5_w44of5GgoDVc8r1T94YMx1ucDRqgI_MExct9_EuLBFNcU8mtY80qnsLRAGWR46ErIf_hYIlw9boHKcMY1ZXu5qC9c5m7-7wPfM3B6y1ibP2TZgRHwxSNSteHtq61j-Uex0yzGdTWO7Xvh-tJB_cjYAPUKlZvfOego9KsW1bkPUPrro7nrknK2mrwWXfQvnEEXx5qKceHhTlJVZCTW1Crix9Y_UP2YBGVECtC7IXC9vXk3DE5Susc.rRzvgX-77KGfsdzQy-jxMDgEewq6G3RPKTcE4s3UDWw&dib_tag=se&keywords=data%2Banalyst%2Btshirt&qid=1728996799&sr=8-7\"\n",
    "    headers={ \"User-Agent\": \"Mozilla/5.0 (Windows NT 10.0; Win64; x64) AppleWebKit/537.36 (KHTML, like Gecko) Chrome/129.0.0.0 Safari/537.36\",\"Accept-Language\": \"en-US,en;q=0.5\",\n",
    "    \"Referer\": \"https://google.com\",\n",
    "    }\n",
    "    page=requests.get(URL, headers=headers)\n",
    "    soup1=BeautifulSoup(page.content,\"html.parser\")\n",
    "    soup2=BeautifulSoup(soup1.prettify(),\"html.parser\")\n",
    "    title= soup2.find(id=\"productTitle\").get_text()\n",
    "    price= soup2.find(id=\"corePriceDisplay_desktop_feature_div\").get_text()\n",
    "    price= price.strip()[:6]\n",
    "    title=title.strip()\n",
    "    import datetime\n",
    "    today=datetime.date.today()\n",
    "    import csv\n",
    "    header= ['Title','Price','Date']\n",
    "    data= [title,price,today]\n",
    "    with open('AmazonWebScraperDataset.csv', 'a+', newline='',encoding='UTF8') as f:\n",
    "        writer=csv.writer(f)\n",
    "        writer.writerow(data)\n",
    "\n",
    "        \n",
    "\n",
    "    \n"
   ]
  },
  {
   "cell_type": "code",
   "execution_count": null,
   "id": "2ecd6e3f-1a25-4304-b096-c34e03b13ffa",
   "metadata": {},
   "outputs": [],
   "source": [
    "while(True):\n",
    "    check_price()\n",
    "    time.sleep(86400)\n"
   ]
  },
  {
   "cell_type": "code",
   "execution_count": null,
   "id": "2fce2f28-6e5d-4a19-9e28-a496cec4b89f",
   "metadata": {},
   "outputs": [],
   "source": [
    "import pandas as pd\n",
    "df= pd.read_csv(r\"C:\\Users\\LARALEK\\AmazonWebScraperDataset.csv\")\n",
    "print(df)\n",
    "\n"
   ]
  },
  {
   "cell_type": "code",
   "execution_count": null,
   "id": "78c89bad-abc4-4f3a-8272-da12666e7aa3",
   "metadata": {},
   "outputs": [],
   "source": []
  },
  {
   "cell_type": "code",
   "execution_count": null,
   "id": "53a38644-d825-45db-993b-5811389cfe7c",
   "metadata": {},
   "outputs": [],
   "source": []
  },
  {
   "cell_type": "code",
   "execution_count": null,
   "id": "880e6603-99c3-4bdc-aca8-3e5f3ec10da0",
   "metadata": {},
   "outputs": [],
   "source": []
  }
 ],
 "metadata": {
  "kernelspec": {
   "display_name": "Python 3 (ipykernel)",
   "language": "python",
   "name": "python3"
  },
  "language_info": {
   "codemirror_mode": {
    "name": "ipython",
    "version": 3
   },
   "file_extension": ".py",
   "mimetype": "text/x-python",
   "name": "python",
   "nbconvert_exporter": "python",
   "pygments_lexer": "ipython3",
   "version": "3.12.4"
  }
 },
 "nbformat": 4,
 "nbformat_minor": 5
}
